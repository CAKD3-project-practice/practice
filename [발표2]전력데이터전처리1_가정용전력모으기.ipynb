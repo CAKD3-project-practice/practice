{
 "cells": [
  {
   "cell_type": "code",
   "execution_count": 20,
   "id": "4c9f686c",
   "metadata": {
    "id": "4c9f686c"
   },
   "outputs": [],
   "source": [
    "# 최대전력 데이터 모으기\n",
    "import pandas as pd\n",
    "df = pd.DataFrame()\n",
    "for i in range(1,25):   #2009년7월,8월~2020년7월8월\n",
    "    df1 = pd.read_excel(f'dataset/최대전력/{i}.xls')\n",
    "    df1 = df1[::-1]\n",
    "    df2 = df.append(df1)\n",
    "    df = df2"
   ]
  },
  {
   "cell_type": "code",
   "execution_count": 21,
   "id": "bbabef5b",
   "metadata": {
    "id": "bbabef5b"
   },
   "outputs": [],
   "source": [
    "# 중간에 날자가아닌 다른값이 들어간, null값 삭제.\n",
    "df = df[df['일시'].notnull()]\n",
    "#최대전력만 가져오기\n",
    "df = df[['일시','최대전력(만kW)']]\n",
    "df = df.rename({'일시':'date','최대전력(만kW)':'금년'},axis =1)\n",
    "df = df.reset_index()\n",
    "df = df.drop('index',axis=1)"
   ]
  },
  {
   "cell_type": "code",
   "execution_count": 22,
   "id": "f29e2831",
   "metadata": {
    "id": "f29e2831"
   },
   "outputs": [],
   "source": [
    "date = pd.DataFrame()\n",
    "for i in [2009,2010,2011,2012,2013,2014,2015,2016,2017,2018,2019,2020]:\n",
    "    d = pd.date_range(start = f'{i}-07-01', end =  f'{i}-08-31', freq = 'D')\n",
    "    d = pd.DataFrame(d)\n",
    "    date1 = date.append(d)\n",
    "    date = date1\n",
    "date = date.reset_index()\n",
    "date = date.drop('index',axis=1)\n",
    "df['date'] = date"
   ]
  },
  {
   "cell_type": "code",
   "execution_count": 23,
   "id": "2d2825b2",
   "metadata": {
    "id": "2d2825b2"
   },
   "outputs": [],
   "source": [
    "df = df.set_index('date')"
   ]
  },
  {
   "cell_type": "code",
   "execution_count": 24,
   "id": "96a6b7d9",
   "metadata": {
    "id": "96a6b7d9",
    "outputId": "84f00a9a-2310-4ee1-982f-9355408d9e92"
   },
   "outputs": [
    {
     "data": {
      "text/html": [
       "<div>\n",
       "<style scoped>\n",
       "    .dataframe tbody tr th:only-of-type {\n",
       "        vertical-align: middle;\n",
       "    }\n",
       "\n",
       "    .dataframe tbody tr th {\n",
       "        vertical-align: top;\n",
       "    }\n",
       "\n",
       "    .dataframe thead th {\n",
       "        text-align: right;\n",
       "    }\n",
       "</style>\n",
       "<table border=\"1\" class=\"dataframe\">\n",
       "  <thead>\n",
       "    <tr style=\"text-align: right;\">\n",
       "      <th></th>\n",
       "      <th>금년</th>\n",
       "    </tr>\n",
       "    <tr>\n",
       "      <th>date</th>\n",
       "      <th></th>\n",
       "    </tr>\n",
       "  </thead>\n",
       "  <tbody>\n",
       "    <tr>\n",
       "      <th>2009-07-01</th>\n",
       "      <td>5,446.5</td>\n",
       "    </tr>\n",
       "    <tr>\n",
       "      <th>2009-07-02</th>\n",
       "      <td>5,508.1</td>\n",
       "    </tr>\n",
       "    <tr>\n",
       "      <th>2009-07-03</th>\n",
       "      <td>5,739.8</td>\n",
       "    </tr>\n",
       "    <tr>\n",
       "      <th>2009-07-04</th>\n",
       "      <td>5,135.6</td>\n",
       "    </tr>\n",
       "    <tr>\n",
       "      <th>2009-07-05</th>\n",
       "      <td>4,853.8</td>\n",
       "    </tr>\n",
       "  </tbody>\n",
       "</table>\n",
       "</div>"
      ],
      "text/plain": [
       "                 금년\n",
       "date               \n",
       "2009-07-01  5,446.5\n",
       "2009-07-02  5,508.1\n",
       "2009-07-03  5,739.8\n",
       "2009-07-04  5,135.6\n",
       "2009-07-05  4,853.8"
      ]
     },
     "execution_count": 24,
     "metadata": {},
     "output_type": "execute_result"
    }
   ],
   "source": [
    "df.head()  #최대전력데이터"
   ]
  },
  {
   "cell_type": "code",
   "execution_count": 26,
   "id": "5071a8af",
   "metadata": {
    "id": "5071a8af"
   },
   "outputs": [],
   "source": [
    "#점유율\n",
    "use = pd.DataFrame()\n",
    "for i in range(1,13):  \n",
    "    use_read = pd.read_excel(f'dataset/점유율/{i}.xlsx')\n",
    "    use_read = use_read.iloc[28:30]  #7,8월 점유율 추출\n",
    "    use1 = use.append(use_read)\n",
    "    use = use1"
   ]
  },
  {
   "cell_type": "code",
   "execution_count": 27,
   "id": "bcd6f392",
   "metadata": {
    "id": "bcd6f392",
    "outputId": "19356b9c-f188-4922-f254-b1c09426da37"
   },
   "outputs": [
    {
     "name": "stderr",
     "output_type": "stream",
     "text": [
      "C:\\anaconda3\\envs\\cakd3\\lib\\site-packages\\pandas\\core\\frame.py:3607: SettingWithCopyWarning: \n",
      "A value is trying to be set on a copy of a slice from a DataFrame.\n",
      "Try using .loc[row_indexer,col_indexer] = value instead\n",
      "\n",
      "See the caveats in the documentation: https://pandas.pydata.org/pandas-docs/stable/user_guide/indexing.html#returning-a-view-versus-a-copy\n",
      "  self._set_item(key, value)\n"
     ]
    }
   ],
   "source": [
    "use = use[['Unnamed: 2']]\n",
    "li = []\n",
    "for i in [2009,2010,2011,2012,2013,2014,2015,2016,2017,2018,2019,2020]:\n",
    "    i7 = f'{i}-07-01'\n",
    "    i8 = f'{i}-08-01'\n",
    "    li.append(i7)\n",
    "    li.append(i8)\n",
    "use['date'] = li\n",
    "# use.to_csv('data/점유율0708.csv')\n",
    "use.date = use.date.astype('datetime64')\n",
    "use = use.set_index('date')"
   ]
  },
  {
   "cell_type": "code",
   "execution_count": 28,
   "id": "a5edaa8c",
   "metadata": {
    "id": "a5edaa8c"
   },
   "outputs": [],
   "source": [
    "use = use.rename(columns = {'Unnamed: 2' : '가정용점유율(%)'})"
   ]
  },
  {
   "cell_type": "code",
   "execution_count": 29,
   "id": "e9196bab",
   "metadata": {
    "id": "e9196bab",
    "outputId": "6dc8ecb1-43bb-4e07-ea69-703f56ab4c31"
   },
   "outputs": [
    {
     "data": {
      "text/html": [
       "<div>\n",
       "<style scoped>\n",
       "    .dataframe tbody tr th:only-of-type {\n",
       "        vertical-align: middle;\n",
       "    }\n",
       "\n",
       "    .dataframe tbody tr th {\n",
       "        vertical-align: top;\n",
       "    }\n",
       "\n",
       "    .dataframe thead th {\n",
       "        text-align: right;\n",
       "    }\n",
       "</style>\n",
       "<table border=\"1\" class=\"dataframe\">\n",
       "  <thead>\n",
       "    <tr style=\"text-align: right;\">\n",
       "      <th></th>\n",
       "      <th>가정용점유율(%)</th>\n",
       "    </tr>\n",
       "    <tr>\n",
       "      <th>date</th>\n",
       "      <th></th>\n",
       "    </tr>\n",
       "  </thead>\n",
       "  <tbody>\n",
       "    <tr>\n",
       "      <th>2009-07-01</th>\n",
       "      <td>14.2</td>\n",
       "    </tr>\n",
       "    <tr>\n",
       "      <th>2009-08-01</th>\n",
       "      <td>15.2</td>\n",
       "    </tr>\n",
       "    <tr>\n",
       "      <th>2010-07-01</th>\n",
       "      <td>13.8</td>\n",
       "    </tr>\n",
       "    <tr>\n",
       "      <th>2010-08-01</th>\n",
       "      <td>15.4</td>\n",
       "    </tr>\n",
       "    <tr>\n",
       "      <th>2011-07-01</th>\n",
       "      <td>13.2</td>\n",
       "    </tr>\n",
       "  </tbody>\n",
       "</table>\n",
       "</div>"
      ],
      "text/plain": [
       "           가정용점유율(%)\n",
       "date                \n",
       "2009-07-01      14.2\n",
       "2009-08-01      15.2\n",
       "2010-07-01      13.8\n",
       "2010-08-01      15.4\n",
       "2011-07-01      13.2"
      ]
     },
     "execution_count": 29,
     "metadata": {},
     "output_type": "execute_result"
    }
   ],
   "source": [
    "use.head()"
   ]
  },
  {
   "cell_type": "code",
   "execution_count": 30,
   "id": "9e76c56d",
   "metadata": {
    "id": "9e76c56d"
   },
   "outputs": [],
   "source": [
    "all_data = df.join(use, how='left')\n",
    "all_data = all_data.fillna( method = 'ffill')"
   ]
  },
  {
   "cell_type": "code",
   "execution_count": 31,
   "id": "e2eedbee",
   "metadata": {
    "id": "e2eedbee"
   },
   "outputs": [],
   "source": [
    "all_data['금년'] = all_data['금년'].str.replace(',','')\n",
    "all_data['금년'] = all_data['금년'].astype('float')\n",
    "all_data['가정용점유율(%)'] = all_data['가정용점유율(%)'].astype('float')\n",
    "all_data['가정용전력'] = all_data['금년']*all_data['가정용점유율(%)']/100"
   ]
  },
  {
   "cell_type": "code",
   "execution_count": 32,
   "id": "d26ed049",
   "metadata": {
    "id": "d26ed049",
    "outputId": "c2b7b9e5-6716-479d-b506-15bb8863a878"
   },
   "outputs": [
    {
     "data": {
      "text/html": [
       "<div>\n",
       "<style scoped>\n",
       "    .dataframe tbody tr th:only-of-type {\n",
       "        vertical-align: middle;\n",
       "    }\n",
       "\n",
       "    .dataframe tbody tr th {\n",
       "        vertical-align: top;\n",
       "    }\n",
       "\n",
       "    .dataframe thead th {\n",
       "        text-align: right;\n",
       "    }\n",
       "</style>\n",
       "<table border=\"1\" class=\"dataframe\">\n",
       "  <thead>\n",
       "    <tr style=\"text-align: right;\">\n",
       "      <th></th>\n",
       "      <th>금년</th>\n",
       "      <th>가정용점유율(%)</th>\n",
       "      <th>가정용전력</th>\n",
       "    </tr>\n",
       "    <tr>\n",
       "      <th>date</th>\n",
       "      <th></th>\n",
       "      <th></th>\n",
       "      <th></th>\n",
       "    </tr>\n",
       "  </thead>\n",
       "  <tbody>\n",
       "    <tr>\n",
       "      <th>2009-07-01</th>\n",
       "      <td>5446.5</td>\n",
       "      <td>14.2</td>\n",
       "      <td>773.4030</td>\n",
       "    </tr>\n",
       "    <tr>\n",
       "      <th>2009-07-02</th>\n",
       "      <td>5508.1</td>\n",
       "      <td>14.2</td>\n",
       "      <td>782.1502</td>\n",
       "    </tr>\n",
       "    <tr>\n",
       "      <th>2009-07-03</th>\n",
       "      <td>5739.8</td>\n",
       "      <td>14.2</td>\n",
       "      <td>815.0516</td>\n",
       "    </tr>\n",
       "    <tr>\n",
       "      <th>2009-07-04</th>\n",
       "      <td>5135.6</td>\n",
       "      <td>14.2</td>\n",
       "      <td>729.2552</td>\n",
       "    </tr>\n",
       "    <tr>\n",
       "      <th>2009-07-05</th>\n",
       "      <td>4853.8</td>\n",
       "      <td>14.2</td>\n",
       "      <td>689.2396</td>\n",
       "    </tr>\n",
       "  </tbody>\n",
       "</table>\n",
       "</div>"
      ],
      "text/plain": [
       "                금년  가정용점유율(%)     가정용전력\n",
       "date                                   \n",
       "2009-07-01  5446.5       14.2  773.4030\n",
       "2009-07-02  5508.1       14.2  782.1502\n",
       "2009-07-03  5739.8       14.2  815.0516\n",
       "2009-07-04  5135.6       14.2  729.2552\n",
       "2009-07-05  4853.8       14.2  689.2396"
      ]
     },
     "execution_count": 32,
     "metadata": {},
     "output_type": "execute_result"
    }
   ],
   "source": [
    "all_data.head(5)"
   ]
  },
  {
   "cell_type": "code",
   "execution_count": 33,
   "id": "b72ee9e5",
   "metadata": {
    "id": "b72ee9e5"
   },
   "outputs": [],
   "source": [
    "all_data.to_excel('dataset/가정전력.xlsx')"
   ]
  }
 ],
 "metadata": {
  "colab": {
   "collapsed_sections": [],
   "name": "전력데이터전처리1_가정용전력모으기.ipynb",
   "provenance": []
  },
  "kernelspec": {
   "display_name": "Python 3",
   "language": "python",
   "name": "python3"
  },
  "language_info": {
   "codemirror_mode": {
    "name": "ipython",
    "version": 3
   },
   "file_extension": ".py",
   "mimetype": "text/x-python",
   "name": "python",
   "nbconvert_exporter": "python",
   "pygments_lexer": "ipython3",
   "version": "3.8.10"
  }
 },
 "nbformat": 4,
 "nbformat_minor": 5
}
